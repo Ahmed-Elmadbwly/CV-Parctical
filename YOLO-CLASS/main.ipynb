{
 "cells": [
  {
   "cell_type": "code",
   "metadata": {
    "ExecuteTime": {
     "end_time": "2024-12-13T19:35:53.186481Z",
     "start_time": "2024-12-13T19:35:45.297616Z"
    }
   },
   "source": [
    "from ultralytics import YOLO"
   ],
   "outputs": [],
   "execution_count": 1
  },
  {
   "cell_type": "code",
   "metadata": {
    "ExecuteTime": {
     "end_time": "2024-12-13T19:36:14.773348Z",
     "start_time": "2024-12-13T19:35:53.194482Z"
    }
   },
   "source": [
    "model = YOLO('yolov8n-cls.pt')"
   ],
   "outputs": [
    {
     "name": "stdout",
     "output_type": "stream",
     "text": [
      "Downloading https://github.com/ultralytics/assets/releases/download/v8.3.0/yolov8n-cls.pt to 'yolov8n-cls.pt'...\n"
     ]
    },
    {
     "name": "stderr",
     "output_type": "stream",
     "text": [
      "100%|██████████| 5.31M/5.31M [00:18<00:00, 304kB/s]\n"
     ]
    }
   ],
   "execution_count": 2
  },
  {
   "cell_type": "code",
   "metadata": {
    "ExecuteTime": {
     "end_time": "2024-12-13T19:55:36.674443Z",
     "start_time": "2024-12-13T19:46:08.162036Z"
    }
   },
   "source": "model.train(data=\"Alzheimer_s Dataset\", epochs=2)",
   "outputs": [
    {
     "name": "stdout",
     "output_type": "stream",
     "text": [
      "New https://pypi.org/project/ultralytics/8.3.49 available  Update with 'pip install -U ultralytics'\n",
      "Ultralytics 8.3.48  Python-3.12.8 torch-2.5.1+cpu CPU (Intel Core(TM) i5-4310U 2.00GHz)\n",
      "\u001B[34m\u001B[1mengine\\trainer: \u001B[0mtask=classify, mode=train, model=yolov8n-cls.pt, data=Alzheimer_s Dataset, epochs=2, time=None, patience=100, batch=16, imgsz=224, save=True, save_period=-1, cache=False, device=None, workers=8, project=None, name=train6, exist_ok=False, pretrained=True, optimizer=auto, verbose=True, seed=0, deterministic=True, single_cls=False, rect=False, cos_lr=False, close_mosaic=10, resume=False, amp=True, fraction=1.0, profile=False, freeze=None, multi_scale=False, overlap_mask=True, mask_ratio=4, dropout=0.0, val=True, split=val, save_json=False, save_hybrid=False, conf=None, iou=0.7, max_det=300, half=False, dnn=False, plots=True, source=None, vid_stride=1, stream_buffer=False, visualize=False, augment=False, agnostic_nms=False, classes=None, retina_masks=False, embed=None, show=False, save_frames=False, save_txt=False, save_conf=False, save_crop=False, show_labels=True, show_conf=True, show_boxes=True, line_width=None, format=torchscript, keras=False, optimize=False, int8=False, dynamic=False, simplify=True, opset=None, workspace=None, nms=False, lr0=0.01, lrf=0.01, momentum=0.937, weight_decay=0.0005, warmup_epochs=3.0, warmup_momentum=0.8, warmup_bias_lr=0.1, box=7.5, cls=0.5, dfl=1.5, pose=12.0, kobj=1.0, nbs=64, hsv_h=0.015, hsv_s=0.7, hsv_v=0.4, degrees=0.0, translate=0.1, scale=0.5, shear=0.0, perspective=0.0, flipud=0.0, fliplr=0.5, bgr=0.0, mosaic=1.0, mixup=0.0, copy_paste=0.0, copy_paste_mode=flip, auto_augment=randaugment, erasing=0.4, crop_fraction=1.0, cfg=None, tracker=botsort.yaml, save_dir=D:\\FCI\\CV\\\\CV-TASKS\\runs\\classify\\train6\n",
      "\u001B[34m\u001B[1mtrain:\u001B[0m D:\\FCI\\CV\\CV-Parctical\\YOLO-CLASS\\Alzheimer_s Dataset\\train... found 5121 images in 4 classes  \n",
      "\u001B[34m\u001B[1mval:\u001B[0m None...\n",
      "\u001B[34m\u001B[1mtest:\u001B[0m D:\\FCI\\CV\\CV-Parctical\\YOLO-CLASS\\Alzheimer_s Dataset\\test... found 1279 images in 4 classes  \n",
      "\n",
      "                   from  n    params  module                                       arguments                     \n",
      "  0                  -1  1       464  ultralytics.nn.modules.conv.Conv             [3, 16, 3, 2]                 \n",
      "  1                  -1  1      4672  ultralytics.nn.modules.conv.Conv             [16, 32, 3, 2]                \n",
      "  2                  -1  1      7360  ultralytics.nn.modules.block.C2f             [32, 32, 1, True]             \n",
      "  3                  -1  1     18560  ultralytics.nn.modules.conv.Conv             [32, 64, 3, 2]                \n",
      "  4                  -1  2     49664  ultralytics.nn.modules.block.C2f             [64, 64, 2, True]             \n",
      "  5                  -1  1     73984  ultralytics.nn.modules.conv.Conv             [64, 128, 3, 2]               \n",
      "  6                  -1  2    197632  ultralytics.nn.modules.block.C2f             [128, 128, 2, True]           \n",
      "  7                  -1  1    295424  ultralytics.nn.modules.conv.Conv             [128, 256, 3, 2]              \n",
      "  8                  -1  1    460288  ultralytics.nn.modules.block.C2f             [256, 256, 1, True]           \n",
      "  9                  -1  1    335364  ultralytics.nn.modules.head.Classify         [256, 4]                      \n",
      "YOLOv8n-cls summary: 99 layers, 1,443,412 parameters, 1,443,412 gradients, 3.4 GFLOPs\n",
      "Transferred 158/158 items from pretrained weights\n",
      "\u001B[34m\u001B[1mTensorBoard: \u001B[0mWARNING  TensorBoard not initialized correctly, not logging this run. D:\\FCI\\CV\\\\CV-TASKS\\runs\\classify\\train6 is not a directory\n"
     ]
    },
    {
     "name": "stderr",
     "output_type": "stream",
     "text": [
      "\u001B[34m\u001B[1mtrain: \u001B[0mScanning D:\\FCI\\CV\\CV-Parctical\\YOLO-CLASS\\Alzheimer_s Dataset\\train... 5121 images, 0 corrupt: 100%|██████████| 5121/5121 [00:00<?, ?it/s]\n",
      "\u001B[34m\u001B[1mval: \u001B[0mScanning D:\\FCI\\CV\\CV-Parctical\\YOLO-CLASS\\Alzheimer_s Dataset\\test... 1279 images, 0 corrupt: 100%|██████████| 1279/1279 [00:00<?, ?it/s]"
     ]
    },
    {
     "name": "stdout",
     "output_type": "stream",
     "text": [
      "\u001B[34m\u001B[1moptimizer:\u001B[0m 'optimizer=auto' found, ignoring 'lr0=0.01' and 'momentum=0.937' and determining best 'optimizer', 'lr0' and 'momentum' automatically... \n",
      "\u001B[34m\u001B[1moptimizer:\u001B[0m AdamW(lr=0.000714, momentum=0.9) with parameter groups 26 weight(decay=0.0), 27 weight(decay=0.0005), 27 bias(decay=0.0)\n",
      "Image sizes 224 train, 224 val\n",
      "Using 0 dataloader workers\n",
      "Logging results to \u001B[1mD:\\FCI\\CV\\\\CV-TASKS\\runs\\classify\\train6\u001B[0m\n",
      "Starting training for 2 epochs...\n",
      "\n",
      "      Epoch    GPU_mem       loss  Instances       Size\n"
     ]
    },
    {
     "name": "stderr",
     "output_type": "stream",
     "text": [
      "\n",
      "        1/2         0G     0.7477          1        224: 100%|██████████| 321/321 [04:09<00:00,  1.28it/s]\n",
      "               classes   top1_acc   top5_acc: 100%|██████████| 40/40 [00:20<00:00,  1.98it/s]"
     ]
    },
    {
     "name": "stdout",
     "output_type": "stream",
     "text": [
      "                   all      0.617          1\n"
     ]
    },
    {
     "name": "stderr",
     "output_type": "stream",
     "text": [
      "\n"
     ]
    },
    {
     "name": "stdout",
     "output_type": "stream",
     "text": [
      "\n",
      "      Epoch    GPU_mem       loss  Instances       Size\n"
     ]
    },
    {
     "name": "stderr",
     "output_type": "stream",
     "text": [
      "        2/2         0G     0.5458          1        224: 100%|██████████| 321/321 [04:02<00:00,  1.32it/s]\n",
      "               classes   top1_acc   top5_acc: 100%|██████████| 40/40 [00:20<00:00,  1.99it/s]"
     ]
    },
    {
     "name": "stdout",
     "output_type": "stream",
     "text": [
      "                   all      0.607          1\n"
     ]
    },
    {
     "name": "stderr",
     "output_type": "stream",
     "text": [
      "\n"
     ]
    },
    {
     "name": "stdout",
     "output_type": "stream",
     "text": [
      "\n",
      "2 epochs completed in 0.148 hours.\n",
      "Optimizer stripped from D:\\FCI\\CV\\\\CV-TASKS\\runs\\classify\\train6\\weights\\last.pt, 3.0MB\n",
      "Optimizer stripped from D:\\FCI\\CV\\\\CV-TASKS\\runs\\classify\\train6\\weights\\best.pt, 3.0MB\n",
      "\n",
      "Validating D:\\FCI\\CV\\\\CV-TASKS\\runs\\classify\\train6\\weights\\best.pt...\n",
      "Ultralytics 8.3.48  Python-3.12.8 torch-2.5.1+cpu CPU (Intel Core(TM) i5-4310U 2.00GHz)\n",
      "YOLOv8n-cls summary (fused): 73 layers, 1,440,004 parameters, 0 gradients, 3.3 GFLOPs\n",
      "WARNING  Dataset 'split=val' not found, using 'split=test' instead.\n",
      "\u001B[34m\u001B[1mtrain:\u001B[0m D:\\FCI\\CV\\CV-Parctical\\YOLO-CLASS\\Alzheimer_s Dataset\\train... found 5121 images in 4 classes  \n",
      "\u001B[34m\u001B[1mval:\u001B[0m None...\n",
      "\u001B[34m\u001B[1mtest:\u001B[0m D:\\FCI\\CV\\CV-Parctical\\YOLO-CLASS\\Alzheimer_s Dataset\\test... found 1279 images in 4 classes  \n"
     ]
    },
    {
     "name": "stderr",
     "output_type": "stream",
     "text": [
      "               classes   top1_acc   top5_acc: 100%|██████████| 40/40 [00:17<00:00,  2.24it/s]\n"
     ]
    },
    {
     "name": "stdout",
     "output_type": "stream",
     "text": [
      "                   all      0.616          1\n",
      "Speed: 0.0ms preprocess, 9.5ms inference, 0.0ms loss, 0.0ms postprocess per image\n",
      "Results saved to \u001B[1mD:\\FCI\\CV\\\\CV-TASKS\\runs\\classify\\train6\u001B[0m\n"
     ]
    },
    {
     "data": {
      "text/plain": [
       "ultralytics.utils.metrics.ClassifyMetrics object with attributes:\n",
       "\n",
       "confusion_matrix: <ultralytics.utils.metrics.ConfusionMatrix object at 0x000001D2C255BD40>\n",
       "curves: []\n",
       "curves_results: []\n",
       "fitness: 0.8080531656742096\n",
       "keys: ['metrics/accuracy_top1', 'metrics/accuracy_top5']\n",
       "results_dict: {'metrics/accuracy_top1': 0.6161063313484192, 'metrics/accuracy_top5': 1.0, 'fitness': 0.8080531656742096}\n",
       "save_dir: WindowsPath('D:/FCI/CV/سكاشن/CV-TASKS/runs/classify/train6')\n",
       "speed: {'preprocess': 0.0015634219100272124, 'inference': 9.504236030429485, 'loss': 0.0, 'postprocess': 0.0}\n",
       "task: 'classify'\n",
       "top1: 0.6161063313484192\n",
       "top5: 1.0"
      ]
     },
     "execution_count": 4,
     "metadata": {},
     "output_type": "execute_result"
    }
   ],
   "execution_count": 4
  },
  {
   "cell_type": "code",
   "metadata": {
    "ExecuteTime": {
     "end_time": "2024-12-13T20:02:20.722873Z",
     "start_time": "2024-12-13T20:01:58.250479Z"
    }
   },
   "source": [
    "metrics = model.val(split=\"test\")\n",
    "print(f\"Top-1 Accuracy: {metrics.top1}\")\n",
    "print(f\"Top-5 Accuracy: {metrics.top5}\")"
   ],
   "outputs": [
    {
     "name": "stdout",
     "output_type": "stream",
     "text": [
      "Ultralytics 8.3.48  Python-3.12.8 torch-2.5.1+cpu CPU (Intel Core(TM) i5-4310U 2.00GHz)\n",
      "\u001B[34m\u001B[1mtrain:\u001B[0m D:\\FCI\\CV\\CV-Parctical\\YOLO-CLASS\\Alzheimer_s Dataset\\train... found 5121 images in 4 classes  \n",
      "\u001B[34m\u001B[1mval:\u001B[0m None...\n",
      "\u001B[34m\u001B[1mtest:\u001B[0m D:\\FCI\\CV\\CV-Parctical\\YOLO-CLASS\\Alzheimer_s Dataset\\test... found 1279 images in 4 classes  \n"
     ]
    },
    {
     "name": "stderr",
     "output_type": "stream",
     "text": [
      "\u001B[34m\u001B[1mtest: \u001B[0mScanning D:\\FCI\\CV\\CV-Parctical\\YOLO-CLASS\\Alzheimer_s Dataset\\test... 1279 images, 0 corrupt: 100%|██████████| 1279/1279 [00:00<?, ?it/s]\n",
      "               classes   top1_acc   top5_acc: 100%|██████████| 80/80 [00:20<00:00,  3.93it/s]\n"
     ]
    },
    {
     "name": "stdout",
     "output_type": "stream",
     "text": [
      "                   all      0.616          1\n",
      "Speed: 0.0ms preprocess, 11.0ms inference, 0.0ms loss, 0.0ms postprocess per image\n",
      "Results saved to \u001B[1mD:\\FCI\\CV\\\\CV-TASKS\\runs\\classify\\train63\u001B[0m\n",
      "Top-1 Accuracy: 0.6161063313484192\n",
      "Top-5 Accuracy: 1.0\n"
     ]
    }
   ],
   "execution_count": 6
  },
  {
   "cell_type": "code",
   "metadata": {
    "ExecuteTime": {
     "end_time": "2024-12-13T20:02:24.596348Z",
     "start_time": "2024-12-13T20:02:24.479789Z"
    }
   },
   "source": [
    "image_path = \"Alzheimer_s Dataset/test/VeryMildDemented/28 (68).jpg\"\n",
    "results = model.predict(image_path)"
   ],
   "outputs": [
    {
     "name": "stdout",
     "output_type": "stream",
     "text": [
      "\n",
      "image 1/1 D:\\FCI\\CV\\CV-Parctical\\YOLO-CLASS\\Alzheimer_s Dataset\\test\\VeryMildDemented\\28 (68).jpg: 224x224 VeryMildDemented 0.67, NonDemented 0.33, MildDemented 0.01, ModerateDemented 0.00, 51.0ms\n",
      "Speed: 20.0ms preprocess, 51.0ms inference, 0.0ms postprocess per image at shape (1, 3, 224, 224)\n"
     ]
    }
   ],
   "execution_count": 7
  },
  {
   "cell_type": "code",
   "metadata": {
    "ExecuteTime": {
     "end_time": "2024-12-13T20:05:19.970574Z",
     "start_time": "2024-12-13T20:05:19.947213Z"
    }
   },
   "source": [
    "if isinstance(results, list) and len(results) > 0:\n",
    "    probs = results[0].probs  # Access probs of the first result\n",
    "    print(probs.data)\n",
    "else:\n",
    "    print(\"Prediction results are not in the expected format.\")"
   ],
   "outputs": [
    {
     "name": "stdout",
     "output_type": "stream",
     "text": [
      "tensor([6.2318e-03, 9.7434e-05, 3.2854e-01, 6.6513e-01])\n"
     ]
    }
   ],
   "execution_count": 9
  }
 ],
 "metadata": {
  "kernelspec": {
   "display_name": "Python 3 (ipykernel)",
   "language": "python",
   "name": "python3"
  },
  "language_info": {
   "codemirror_mode": {
    "name": "ipython",
    "version": 3
   },
   "file_extension": ".py",
   "mimetype": "text/x-python",
   "name": "python",
   "nbconvert_exporter": "python",
   "pygments_lexer": "ipython3",
   "version": "3.9.13"
  }
 },
 "nbformat": 4,
 "nbformat_minor": 2
}
